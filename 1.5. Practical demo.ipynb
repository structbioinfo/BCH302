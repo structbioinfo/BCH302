{
 "cells": [
  {
   "cell_type": "markdown",
   "metadata": {
    "vscode": {
     "languageId": "plaintext"
    }
   },
   "source": [
    "### In this session, we'll explore glutathione S-transferase protein isoforms and paralogs from humans"
   ]
  },
  {
   "cell_type": "markdown",
   "metadata": {},
   "source": [
    "1. Go to NCBI and look for curated protein sequences from the NCBI \"protein\" data base.\n",
    "    - Use this query: **\"glutathione s-transferase\" AND human[orgn]**\n",
    "      - It is looking for the literal string, and limits its scope to sequence entries from humans\n",
    "      - Check the \"RefSeq\" option as source database (on the left), which is curated"
   ]
  },
  {
   "cell_type": "markdown",
   "metadata": {
    "vscode": {
     "languageId": "plaintext"
    }
   },
   "source": [
    "2. Select the following four matched proteins, and save them as a single FASTA file, named \"sequence.fasta\":\n",
    "   - glutathione S-transferase Mu 1 (GSTM1) isoform 2 (Accession: NP_666533.1)\n",
    "   - glutathione S-transferase Mu 1 isoform 1 (Accession: NP_000552.2)\n",
    "   - glutathione S-transferase P (Accession: NP_000843.1)\n",
    "   - glutathione S-transferase omega-1 isoform 3 (Accession: NP_001177932.1)\n",
    "   - glutathione S-transferase omega-1 isoform 2 (Accession:NP_001177931.1)\n"
   ]
  },
  {
   "cell_type": "markdown",
   "metadata": {},
   "source": [
    "3. Calculate a pairwise alignment of GSTM1 isoforms 1 and 2, using EBI's [dotmatcher](https://www.ebi.ac.uk/jdispatcher/seqstats/emboss_dotmatcher) tool. Compare the plot produced from the default parameters, against one that uses a smaller window size (and threshold value of 1). What do you conclude?"
   ]
  },
  {
   "cell_type": "markdown",
   "metadata": {},
   "source": [
    "4. Calculate a global sequence alignment of \"GSTM1 isoform 1\" and its paralog \"GSTO isoform 3\", using EBI's [needle](https://www.ebi.ac.uk/jdispatcher/psa/emboss_needle) tool."
   ]
  },
  {
   "cell_type": "markdown",
   "metadata": {},
   "source": [
    "5. Calculate a multiple sequence alignment of all four GST genes\n",
    "   1. using EBI's [muscle](https://www.ebi.ac.uk/jdispatcher/msa/muscle?stype=protein) tool.\n",
    "   2. using EBI's [clustal omega](https://www.ebi.ac.uk/jdispatcher/msa/clustalo) tool.\n",
    "   3. using EBI's [mafft](https://www.ebi.ac.uk/jdispatcher/msa/mafft?stype=protein) tool."
   ]
  },
  {
   "cell_type": "markdown",
   "metadata": {},
   "source": [
    "6. Compare the alignments from question 5.\n",
    "   - What are your constructive criticisms of these tools? (examine the number and placement of gaps, the matches and mismatches)\n",
    "   - Which one do you think is better, or are they doing certain things better?\n",
    "   - What about looking for commonalities?"
   ]
  },
  {
   "cell_type": "markdown",
   "metadata": {
    "vscode": {
     "languageId": "plaintext"
    }
   },
   "source": [
    "7. Search for potential homologs of the GSTO isoform 3 in non-mammals from the non-redundant protein database (nr), increasing the number of hits to 250. Examine the approximated phylogenetic distance tree from the results.\n",
    "   - Identify where your query sequence lies in the tree.\n",
    "   - Which of the hit sequences is the most different non-mammalian (potential) homolog of the human GSTO 3, **according to your search criteria?**\n",
    "   - Which of the potential homologs has evolved the most?"
   ]
  }
 ],
 "metadata": {
  "kernelspec": {
   "display_name": "base",
   "language": "python",
   "name": "python3"
  },
  "language_info": {
   "codemirror_mode": {
    "name": "ipython",
    "version": 3
   },
   "file_extension": ".py",
   "mimetype": "text/x-python",
   "name": "python",
   "nbconvert_exporter": "python",
   "pygments_lexer": "ipython3",
   "version": "3.11.4"
  }
 },
 "nbformat": 4,
 "nbformat_minor": 2
}
