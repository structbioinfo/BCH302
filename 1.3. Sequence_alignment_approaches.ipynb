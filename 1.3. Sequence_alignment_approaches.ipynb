{
 "cells": [
  {
   "cell_type": "code",
   "execution_count": 21,
   "metadata": {},
   "outputs": [],
   "source": [
    "from IPython import display"
   ]
  },
  {
   "cell_type": "markdown",
   "metadata": {},
   "source": [
    "# Sequence alignment approaches in bioinformatics"
   ]
  },
  {
   "cell_type": "markdown",
   "metadata": {},
   "source": [
    "### What is sequence alignment?\n",
    "- It is the stacking of sequences to determine their similarity, under the assumption that they are related"
   ]
  },
  {
   "cell_type": "markdown",
   "metadata": {},
   "source": [
    "### Why do sequence alignments?\n",
    "- To determine conservation of sequences\n",
    "  - Detect \"motifs\" from a sequence - e.g. DNA binding motif, etc\n",
    "  - To build profile matrices that are representative of certain protein families\n",
    "- To get a consensus sequence to represent a set of sequences\n",
    "- To detect mutations, such as insertions/deletions (indels), missense mutations\n",
    "- For functional annotation of genes\n",
    "  - aligning RNA vs DNA reveals introns and exons\n",
    "- To assemble short read into overlapping sequences (contigs)\n",
    "- To determine evolutionary relatedness"
   ]
  },
  {
   "cell_type": "markdown",
   "metadata": {},
   "source": [
    "### Types of sequence alignment \n",
    "- Pairwise sequence alignment\n",
    "  - dot plots\n",
    "  - global vs local sequence alignment methods\n",
    "- Multiple sequence alignment"
   ]
  },
  {
   "cell_type": "markdown",
   "metadata": {},
   "source": [
    "### A. Pairwise sequence alignment approaches\n",
    "- This is the how two sequences are compared by searching for common patterns\n",
    "  - The pair of sequences can be potentially of unequal sizes\n",
    "  - This comparison can be used to search for other similar sequences from a database\n",
    "  - The simplest way to do this is with a dot-plot"
   ]
  },
  {
   "cell_type": "markdown",
   "metadata": {},
   "source": [
    "#### 1. The dot-plot"
   ]
  },
  {
   "cell_type": "markdown",
   "metadata": {},
   "source": [
    "- **What it is and does:**\n",
    "  - A 2D plot that allows the comparison of two biological sequences of the same kind to identify regions of similarity between them.\n",
    "  - You get a diagonal line is the sequences are identical\n",
    "  - Low complexity regions (repeated simple patterns) look like squares\n",
    "  - Direct repeats (e.g. **AACCTT**XXX**AACCTT**) are depicted as shifted parallel diagonal lines\n",
    "  - Inverted repeats (e.g. **AACCTT**XXX**TTCCAA**) are perpendicular to the central diagonal line\n",
    "  - Insertions/deletions (indels) show as gaps (interruptions) along the diagonal"
   ]
  },
  {
   "cell_type": "markdown",
   "metadata": {},
   "source": [
    "This is what a dot plot looks like"
   ]
  },
  {
   "cell_type": "code",
   "execution_count": null,
   "metadata": {},
   "outputs": [
    {
     "data": {
      "text/html": [
       "<img src=\"https://omicstutorials.com/wp-content/uploads/2019/07/frameshift.png\" width=\"800\"/>"
      ],
      "text/plain": [
       "<IPython.core.display.Image object>"
      ]
     },
     "metadata": {},
     "output_type": "display_data"
    }
   ],
   "source": [
    "display.Image(url=\"https://omicstutorials.com/wp-content/uploads/2019/07/frameshift.png\", width=800)"
   ]
  },
  {
   "cell_type": "markdown",
   "metadata": {},
   "source": [
    "- **Advantages**\n",
    "  - Easy to understand and interpret\n",
    "  - Shows all possible matches\n",
    "  - Informs about different types of mutational changes between 2 sequences\n",
    "    - Can be use to align a sequence against itself -> reveals evolutionary properties (indels, repeats, etc)\n",
    "  - Can be used with proteins or nucleic acids\n",
    "- **Disadvantages**\n",
    "  - Doesn't show the aligned sequences itself\n",
    "  - More useful for relatively short sequences\n",
    "  - High noise level for long sequence\n",
    "    - A smaller window size gives more signal, but also increases noise levels\n",
    "    - Window size can be increased to reduce noise level\n",
    "  - Cannot be used for many sequences at once"
   ]
  },
  {
   "cell_type": "markdown",
   "metadata": {},
   "source": [
    "**An algorithm for doing a dot plot (dot matrix)**\n",
    "1. One sequence is lined horizontally, and another vertically (in this case, starting top left)\n",
    "2. Chunks of non-overlapping nts (windows) are defined in each sequence \n",
    "    - the segments are of the same length in each sequence\n",
    "3. Check if the sequence segments are identical, filling a matrix (2x2 grid) with scores\n",
    "   - Use a scoring matrix for matches and mismatches\n",
    "   - or simply, 1 if it's matching, and 0 otherwise\n",
    "5. Display the matrix as a 2D plot, with a color that denote a match and another a mismatch"
   ]
  },
  {
   "cell_type": "markdown",
   "metadata": {},
   "source": [
    "Example of a web server (EBI) for doing dot plots: [Dotmatcher](https://www.ebi.ac.uk/jdispatcher/seqstats/emboss_dotmatcher)"
   ]
  },
  {
   "cell_type": "markdown",
   "metadata": {},
   "source": [
    "---"
   ]
  },
  {
   "cell_type": "markdown",
   "metadata": {},
   "source": [
    "#### 2. Local sequence alignment"
   ]
  },
  {
   "cell_type": "markdown",
   "metadata": {},
   "source": [
    "**What is it?**\n",
    "- Finds local regions of highest similarity between two sequences, without considering the rest of the sequences \n",
    "\n",
    "**Applicability**\n",
    "- Differences in length are filled with gaps\n",
    "- Can be used for aligning more divergent sequences to find conserved patterns in DNA or protein sequences. \n",
    "- The two sequences can be of different lengths. \n",
    "- More applicable for the detection of domains or motifs\n",
    "  - A domain is a protein segment that can fold into stable 3D structure independently of the rest of the protein"
   ]
  },
  {
   "cell_type": "code",
   "execution_count": null,
   "metadata": {},
   "outputs": [
    {
     "data": {
      "text/html": [
       "<img src=\"https://bioinformatics.univ-saida.dz/jsbb/March_2023/SAIB_imgs/Tps_Sq_Alns.png\" width=\"1200\"/>"
      ],
      "text/plain": [
       "<IPython.core.display.Image object>"
      ]
     },
     "metadata": {},
     "output_type": "display_data"
    }
   ],
   "source": [
    "display.Image(url=\"https://bioinformatics.univ-saida.dz/jsbb/March_2023/SAIB_imgs/Tps_Sq_Alns.png\", width=1200)"
   ]
  },
  {
   "cell_type": "markdown",
   "metadata": {},
   "source": [
    "Example of a web server (EBI) for doing local alignment, using the [Smith-Waterman algorithm](https://www.ebi.ac.uk/jdispatcher/psa/emboss_water)"
   ]
  },
  {
   "cell_type": "markdown",
   "metadata": {},
   "source": [
    "---"
   ]
  },
  {
   "cell_type": "markdown",
   "metadata": {},
   "source": [
    "#### 3. Global sequence alignment"
   ]
  },
  {
   "cell_type": "markdown",
   "metadata": {},
   "source": [
    "**What is is?**\n",
    "- It is when a pair of sequences are aligned end to end\n",
    "- Differences in length are filled with gaps\n",
    "\n",
    "**Limitations**\n",
    "- More applicable for aligning two closely related sequences of about the same length.\n",
    "- Does not perform well for divergent sequences or sequences of differing lengths\n",
    "  - May fail to recognize highly similar local regions, as it favors maximum aligned length."
   ]
  },
  {
   "cell_type": "markdown",
   "metadata": {},
   "source": [
    "Example of a web server (EBI) for doing global alignment, using the [Needleman-Wunsch algorithm](https://www.ebi.ac.uk/jdispatcher/psa/emboss_needle)"
   ]
  },
  {
   "cell_type": "markdown",
   "metadata": {},
   "source": [
    "---"
   ]
  },
  {
   "cell_type": "markdown",
   "metadata": {},
   "source": [
    "#### Dynamic programming is the basis for most local and global alignment algorithms\n",
    "**Dynamic programming**\n",
    "- Alignments are divided into subproblems that are sequentially solved\n",
    "- All possible alignment paths are generated using a 2D matrix\n",
    "- **There can be more than one optimal alignment path, given a pair of sequences!**\n",
    "- Can be used to scan databases, but is too slow for a large\n",
    "  - Heuristics (approximations) are used (BLAST)"
   ]
  },
  {
   "cell_type": "markdown",
   "metadata": {},
   "source": [
    "---"
   ]
  },
  {
   "cell_type": "markdown",
   "metadata": {},
   "source": [
    "### B. Multiple sequence alignments"
   ]
  },
  {
   "cell_type": "markdown",
   "metadata": {},
   "source": [
    "#### Some illustrations"
   ]
  },
  {
   "cell_type": "markdown",
   "metadata": {},
   "source": [
    "Sequence logo (of a sequence motif), determined from aligning multiple sequences\n",
    " - The taller the characters -> the more conserved the locus"
   ]
  },
  {
   "cell_type": "code",
   "execution_count": null,
   "metadata": {},
   "outputs": [
    {
     "data": {
      "text/html": [
       "<img src=\"https://upload.wikimedia.org/wikipedia/commons/8/85/LexA_gram_positive_bacteria_sequence_logo.png\"/>"
      ],
      "text/plain": [
       "<IPython.core.display.Image object>"
      ]
     },
     "metadata": {},
     "output_type": "display_data"
    }
   ],
   "source": [
    "display.Image(url=\"https://upload.wikimedia.org/wikipedia/commons/8/85/LexA_gram_positive_bacteria_sequence_logo.png\")"
   ]
  },
  {
   "cell_type": "markdown",
   "metadata": {},
   "source": [
    "A multiple sequence alignment (left), and posible phylogenies (right)\n",
    " - Notice mis-sense mutations, indels (gaps) and conservations\n",
    " - Phylogenetic trees \n",
    "   - branches, leaves, labels\n",
    "   - consider each pair, count pairwise distances, agglomerate closest pairs & cluster"
   ]
  },
  {
   "cell_type": "code",
   "execution_count": null,
   "metadata": {},
   "outputs": [
    {
     "data": {
      "text/html": [
       "<img src=\"https://media.springernature.com/full/springer-static/image/art%3A10.1038%2Fs41586-020-2169-0/MediaObjects/41586_2020_2169_Fig3_HTML.png\" width=\"1300\"/>"
      ],
      "text/plain": [
       "<IPython.core.display.Image object>"
      ]
     },
     "metadata": {},
     "output_type": "display_data"
    }
   ],
   "source": [
    "display.Image(url=\"https://media.springernature.com/full/springer-static/image/art%3A10.1038%2Fs41586-020-2169-0/MediaObjects/41586_2020_2169_Fig3_HTML.png\", width=1300)"
   ]
  }
 ],
 "metadata": {
  "kernelspec": {
   "display_name": "Python 3 (ipykernel)",
   "language": "python",
   "name": "python3"
  },
  "language_info": {
   "codemirror_mode": {
    "name": "ipython",
    "version": 3
   },
   "file_extension": ".py",
   "mimetype": "text/x-python",
   "name": "python",
   "nbconvert_exporter": "python",
   "pygments_lexer": "ipython3",
   "version": "3.11.4"
  }
 },
 "nbformat": 4,
 "nbformat_minor": 4
}
