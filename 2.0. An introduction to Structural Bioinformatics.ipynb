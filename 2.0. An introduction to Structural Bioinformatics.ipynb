{
 "cells": [
  {
   "cell_type": "code",
   "execution_count": 2,
   "metadata": {},
   "outputs": [],
   "source": [
    "from IPython import display"
   ]
  },
  {
   "cell_type": "markdown",
   "metadata": {},
   "source": [
    "# An introduction to structural bioinformatics tools and databases"
   ]
  },
  {
   "cell_type": "markdown",
   "metadata": {},
   "source": [
    "## What is structural bioinformatics?"
   ]
  },
  {
   "cell_type": "markdown",
   "metadata": {},
   "source": [
    " - Definition:\n",
    "   - Branch of bioinformatics that leverages computational power & experimental data to predict biomolecular structures and analyse their behavior\n",
    " - Importance:\n",
    "   - Crucial role in the design of drugs and the understanding of disease mechanisms at the molecular level\n",
    "   - Accelerates the discovery of new drugs by reducing time and cost of experimental approaches\n",
    "     - Allows for more focused lab assays by prioritizing promising subsets of data\n",
    "       - Imagine narrowing down millions of compounds to a few in vitro lab experiments"
   ]
  },
  {
   "cell_type": "markdown",
   "metadata": {},
   "source": [
    "### General objectives in structural bioinformatics\n",
    "- Predicting 3D structures\n",
    "  - Nucleic acids, proteins, small molecules, and any of these combinations\n",
    "- Determining structural landmarks in proteins (structural annotation)\n",
    "  - secondary structures, motifs (supersecondary structures), domains, catalytic/allosteric sites\n",
    "- Determining folding mechanisms of proteins\n",
    "  - Process by which a primary sequence becomes a functional 3D structure\n",
    "  - Defective folding are linked to several disorders\n",
    "    - e.g. Alzheimer's (amyloid beta), etc  \n",
    "- Investigating molecular interactions\n",
    "  - e.g. How strongly does a compound binds to a protein receptor?\n",
    "- Investigating the effect of residue mutations\n",
    "    - e.g. Single hemoglobin gene mutation leads to C-shaped protein in Sickle Cell Disease (SCD)\n",
    "    - e.g. Antiretroviral drug resistance in HIV - ARVs lose efficacy over time\n",
    "- Investigating the dynamics of proteins and their complexes\n",
    "  - Changes that occur over time, unobserved in static structures\n",
    "    - cryptic pockets, unknown conformations/interactions, drug stability, etc\\\n",
    "- Drug discovery\n",
    "  - Screening from potential modulators of proteins\n",
    "    - modulators can be upregulators or inhibitors of a protein\n",
    "- There many more techniques that can give various kinds of insights"
   ]
  },
  {
   "cell_type": "markdown",
   "metadata": {},
   "source": [
    "### How is structural bioinformatics practised nowadays?"
   ]
  },
  {
   "cell_type": "markdown",
   "metadata": {},
   "source": [
    "- Based on the premise that structure determines function\n",
    "  - Distal parts on a protein sequence (1-D) can actually be brought together in 3-D structure\n",
    "    - Distal residue interactions (H-bonds, disulphides, salt-bridges, etc)\n",
    "  - Knowing shapes of receptors and other molecules facilitates the discovery of (protein or non-protein) binding partners\n",
    "- Computational power and improved algorithms/techniques\n",
    "  - Artificial Intelligence\n",
    "    - AlphaFold can predict 3-D structures of certain protein structures with very high accuracy\n",
    "      - This is promising, even though it has certain limitations\n",
    "  - Increase in to computational power/efficiency and its accessibility\n",
    "    - More powerful CPUs and GPUs on the market\n",
    "    - Availability of high performance computing (HPC) clusters to more scientists (CHPC in South Africa)\n",
    "    - Open source HPC software enables anyone to set up of his own computer cluster\n",
    "    - Cloud computing (e.g. GPU on Google Collaboratory) to anyone with a Google account"
   ]
  },
  {
   "cell_type": "markdown",
   "metadata": {},
   "source": [
    "---"
   ]
  },
  {
   "cell_type": "markdown",
   "metadata": {},
   "source": [
    "## Structural bioinformatics is informed by experimental methods"
   ]
  },
  {
   "cell_type": "markdown",
   "metadata": {},
   "source": [
    "- It is not just a matter of running completely random simulations on a computer\n",
    "  - The computer simulations have to be rooted in biology/reality\n",
    "  - Garbage In Garbage Out\n",
    "- But there are also highly accurate quantum mechanical (QM) predictions\n",
    "  - Based on functions that describe a system using probabilities of finding it's electron positions\n",
    "  - QM is very computationally expensive to use for large systems\n",
    "  - We won't delve any further into that area"
   ]
  },
  {
   "cell_type": "markdown",
   "metadata": {},
   "source": [
    "### Experimental techniques for determining molecular (protein) 3D structures"
   ]
  },
  {
   "cell_type": "markdown",
   "metadata": {},
   "source": [
    "As at September 2024, the RCSB PDB was composed of:\n",
    "- Experimental models (225,158 models)\n",
    "  - 83.5% X-ray crystallographic structures.\n",
    "  - 6.3% solution NMR structures\n",
    "  - 9.9% Cryo-EM structures.\n",
    "- Computed Structure Models (1,068,577 models)\n",
    "  - 100% AlphaFold predictions"
   ]
  },
  {
   "cell_type": "markdown",
   "metadata": {},
   "source": [
    "#### Nuclear magnetic resonance (NMR) Spectroscopy\n",
    "- What is it?\n",
    "  - A highly concentrated protein solution is exposed to a strong magnetic field, and the resulting in atomic spectra are used to determine the atomic distances and angles\n",
    "  - Some databases can report multiple observed conformations for NMR entries\n",
    "    - Example: 20 models from the calcyclin [1A03](https://www.rcsb.org/structure/1A03) from RCSB \n",
    "  - [NMR spectroscopy visualized](https://www.youtube.com/watch?v=RZLew6Ff-JE)\n",
    "- Advantages\n",
    "  - Good for studying flexible proteins\n",
    "  - Proteins can be studied in solution\n",
    "- Disadvantages\n",
    "  - Typically limited to small to medium sized proteins"
   ]
  },
  {
   "cell_type": "markdown",
   "metadata": {},
   "source": [
    "#### X-ray crystallography\n",
    "- What is is?\n",
    "  - A highly purified protein is crystallised in a buffer before being exposed to X-rays, resulting in a diffraction pattern that is used to generate the electron density maps, which are then fit to a 3D structure.\n",
    "- Advantages\n",
    "  - High resolution, depending on crystal quality\n",
    "- Disadvantages\n",
    "  - Some proteins are difficult to crystalize (membrane proteins and highly flexible proteins) \n",
    "  - Difficult cases may require multiple crystallization, which can increase costs"
   ]
  },
  {
   "cell_type": "markdown",
   "metadata": {},
   "source": [
    "#### Cryo-Electron Microscopy (cryo-EM)\n",
    "- What is is?\n",
    "  - A purified protein solution is frozen and is photographed thousands of times using an electron microscope to produce 2D snapshots that are then computationally processed to generate the 3D structure.\n",
    "  - [What is Cryo-Electron Microscopy (Cryo-EM)? (YouTube video)](https://www.youtube.com/watch?v=Qq8DO-4BnIY)\n",
    "  - [A 3 minute introduction to CryoEM](https://www.youtube.com/watch?v=BJKkC0W-6Qk)\n",
    "- Advantages\n",
    "  - Suitable for very large proteins/complexes\n",
    "- Disadvantages\n",
    "  - Lower resolution, even though the resolution is improving over time\n",
    "  - Expensive equipment\n",
    "\n"
   ]
  },
  {
   "cell_type": "markdown",
   "metadata": {},
   "source": [
    "---"
   ]
  },
  {
   "cell_type": "markdown",
   "metadata": {},
   "source": [
    "## Structure file formats"
   ]
  },
  {
   "cell_type": "markdown",
   "metadata": {},
   "source": [
    "### The PDB format"
   ]
  },
  {
   "cell_type": "markdown",
   "metadata": {},
   "source": [
    "<img src=\"figures/PDB_format.png\">"
   ]
  },
  {
   "cell_type": "markdown",
   "metadata": {},
   "source": [
    "### Visual representations of protein structures"
   ]
  },
  {
   "cell_type": "code",
   "execution_count": 3,
   "metadata": {},
   "outputs": [
    {
     "data": {
      "text/html": [
       "<img src=\"https://www.compchems.com/pymol_intro/representation_2.webp\" width=\"1100\"/>"
      ],
      "text/plain": [
       "<IPython.core.display.Image object>"
      ]
     },
     "execution_count": 3,
     "metadata": {},
     "output_type": "execute_result"
    }
   ],
   "source": [
    "display.Image(url=\"https://www.compchems.com/pymol_intro/representation_2.webp\", width=1100)"
   ]
  },
  {
   "cell_type": "markdown",
   "metadata": {},
   "source": [
    "#### PyMOL demonstration (standalone tool)\n",
    "- Load PyMOL using the Anaconda software\n",
    "- Run PyMOL, using the commapd: `pymol`\n",
    "- Fetch an example structure, using the command: `fetch 1HIV, type=pdb`\n",
    "- Explore different representations (surface, sticks, wireframe, lines, etc)"
   ]
  },
  {
   "cell_type": "markdown",
   "metadata": {},
   "source": [
    "#### RCSB demonstration (web server with linked database)\n",
    "- Go to www.rcsb.org\n",
    "- Search for \"1HIV\"\n",
    "- Explore the interface\n",
    "- Explore different representations (surface, sticks, wireframe, lines, etc)"
   ]
  },
  {
   "cell_type": "markdown",
   "metadata": {},
   "source": [
    "---"
   ]
  },
  {
   "cell_type": "markdown",
   "metadata": {},
   "source": [
    "## Bioinformatics databases"
   ]
  },
  {
   "cell_type": "markdown",
   "metadata": {},
   "source": [
    "- Scientists around the world continuously produce biomolecular data sets\n",
    "    - e.g. X-ray crystals, NMR structures, protein/nucleic acid sequences\n",
    "    - Some data is publicly available, while some can remain private or be shared upon request\n",
    "- Experimental data is usually expensive to produce\n",
    "  - costs a lot of time and money\n",
    "  - Can be enormous in size as well (e.g. molecular dynamics simulations)\n",
    "  - Various centers have decided to store, classify and make available these data sets using databases"
   ]
  },
  {
   "cell_type": "markdown",
   "metadata": {},
   "source": [
    "### What is a database?"
   ]
  },
  {
   "cell_type": "markdown",
   "metadata": {},
   "source": [
    "- A database is a **computerised archive used to store and organise data** in such a way that information can be retrieved easily via a variety of search criteria.\n",
    "- Think of the simplest database, which is a table containing rows and columns\n",
    "    - Each record in a database is called an **entry**\n",
    "    - Each **entry** (row) contains a number of **fields** (columns)"
   ]
  },
  {
   "cell_type": "markdown",
   "metadata": {},
   "source": [
    "### Types of databases"
   ]
  },
  {
   "cell_type": "markdown",
   "metadata": {},
   "source": [
    "- A flat file (text files, e.g. excel sheet, CSV file, etc) can be used as database\n",
    "    - Disadvantage:\n",
    "        - Cannot store relations\n",
    "        - Slow; as entire table needs to be read\n",
    "        - Uses more storage as repeated values are stored repeatedly \n",
    "- Relational databases - store relational information between tables\n",
    "    - Advantages:\n",
    "        - Uses less storage space, as table is generated by combining various tables (as needed)\n",
    "        - Fast; only required tables, entries and fields are read\n",
    "        - Relational tables drive knowledge discovery (associating related data from separate experiments)"
   ]
  },
  {
   "cell_type": "markdown",
   "metadata": {},
   "source": [
    "---"
   ]
  },
  {
   "cell_type": "markdown",
   "metadata": {
    "vscode": {
     "languageId": "plaintext"
    }
   },
   "source": [
    "## Computational approaches based on 3D structures"
   ]
  },
  {
   "cell_type": "markdown",
   "metadata": {},
   "source": [
    "### Protein structure prediction\n",
    "- **_ab initio modeling_** (i.e. Latin, meaning \"from the beginning\")\n",
    "  - Uses part stochastic (random) processes to generate starting conformations\n",
    "  - Employs sets of basic functions based on physical laws, to search and find conformations that satisfy these rules\n",
    "  - The collection of functions is known as the \"force field\"\n",
    "  - The search is an exploration of a \"conformational landscape\"\n",
    "  - The satisfaction of the functions is a minimum energy conformation\n",
    "    - Think of the protein as someone, who search is searching around campus to find a place to stay\n",
    "    - Once he finds such a place, he can rest\n",
    "  - Features:\n",
    "    - does not require a pre-existing template\n",
    "    - lower accuracy\n",
    "    - More computationally expensive (time & hardware), and is thus practical mostly for small proteins\n",
    "    - Difficult to validate predictions, as they would be no reference to compare it to\n",
    "  - [QUARK](https://seq2fun.dcmb.med.umich.edu//QUARK/), [I-TASSER](https://zhanggroup.org/I-TASSER/) \n",
    "- **Homology modeling**:\n",
    "  - Predicts 3D structure of protein using the structure of a known homologous template structure as example.\n",
    "  - Assumes that proteins with similar sequences have similar structures (mostly true)\n",
    "  - Features:\n",
    "    - Highly accurate, as long as a high quality template is available\n",
    "    - Less computationally demanding, and is thus relatively fast\n",
    "  - [MODELLER](https://salilab.org/modeller/)"
   ]
  },
  {
   "cell_type": "markdown",
   "metadata": {},
   "source": [
    "#### The homology modeling approach (MODELLER software)\n",
    "1. Obtain a target sequence (here \"target\" means the one you want to determine)\n",
    "2. Search for templates from a structural database using sequence similarity search (e.g. BLAST)\n",
    "3. Choose a suitable template structure (high quality and high coverage)\n",
    "4. Align the target sequence to the template sequence\n",
    "   - derive spatial restraints (positions, bond angles, etc) from template\n",
    "   - sequence alignment has to span the entirety of the target sequence (with gaps if needed)\n",
    "5. Build several 3D models from restraints\n",
    "   - Choose the best one using various quality metrics (local / global)"
   ]
  },
  {
   "cell_type": "markdown",
   "metadata": {},
   "source": [
    "### Molecular dynamics - the big picture"
   ]
  },
  {
   "cell_type": "code",
   "execution_count": 7,
   "metadata": {},
   "outputs": [
    {
     "data": {
      "text/html": [
       "<video src=\"https://www.ncbi.nlm.nih.gov/pmc/articles/PMC8545671/bin/mmc2.mp4\" controls  width=\"900\" >\n",
       "      Your browser does not support the <code>video</code> element.\n",
       "    </video>"
      ],
      "text/plain": [
       "<IPython.core.display.Video object>"
      ]
     },
     "execution_count": 7,
     "metadata": {},
     "output_type": "execute_result"
    }
   ],
   "source": [
    "display.Video(\"https://www.ncbi.nlm.nih.gov/pmc/articles/PMC8545671/bin/mmc2.mp4\", width=900)"
   ]
  },
  {
   "cell_type": "markdown",
   "metadata": {},
   "source": [
    "---"
   ]
  },
  {
   "cell_type": "markdown",
   "metadata": {},
   "source": [
    "### Molecular docking\n",
    "- The basic principle - finding if and where two entities fit together\n",
    "  - Think of it as finding the right key to open a door, in the dark\n",
    "  - It's more like lockpicking - finding a key that will fit the door\n",
    "- There are two typical approached in molecular docking:\n",
    "  - A small molecule docked against a protein\n",
    "  - A protein docked against another protein\n",
    "- Flexible docking\n",
    "  - Most docking tasks are peformed with the ligand being flexible\n",
    "  - One can also make part of a protein flexible, to increase the chances of finding a fit\n",
    "    - Few receptor residues are made flexible, in addition to the small molecule\n",
    "    - More computationally costly"
   ]
  },
  {
   "cell_type": "markdown",
   "metadata": {},
   "source": [
    "### Molecular dynamics simulations\n",
    "  - Computer simulation of molecules, usually under physiological conditions"
   ]
  },
  {
   "cell_type": "markdown",
   "metadata": {},
   "source": [
    "---"
   ]
  },
  {
   "cell_type": "markdown",
   "metadata": {
    "vscode": {
     "languageId": "plaintext"
    }
   },
   "source": [
    "## Databases & tools dealing with 3D molecular structures"
   ]
  },
  {
   "cell_type": "markdown",
   "metadata": {},
   "source": [
    "### Molecular structure databases\n",
    "  - These are essential, centralized repositories that store and make accessible structural data\n",
    "    - [RCSB PDB](http://rcsb.org), [UniProt](http://uniprot.org), [AlphaFold DB](https://alphafold.ebi.ac.uk)\n",
    "  - Allow the **reuse of experimental data**, thus **minimizing costs** and **optimizing the use of resources and research efforts**\n",
    "  - **Integrate information/annotations** from various sources, they allow new discoveries to be made\n",
    "    - Data can be imputed to close yet incompletely described homologs\n",
    "  - Publicly available experimental structures / computed structure models can be **immediately accessed all over the world**\n",
    "  - Databases are often not limited to storage, but often also **provide tools** for visualization\n",
    "    - Example: RCSB provides a sophisticated visualizer\n",
    "  - Allow for more **powerful queries** (searches) to be made\n",
    "    - e.g. You could search for different states of the same protein (drug bound/unbound/orthologs/etc)"
   ]
  },
  {
   "cell_type": "markdown",
   "metadata": {},
   "source": [
    "### A subset of tools and databases for working with molecular structures\n",
    "  - Web servers:\n",
    "    - Protein structure modeling\n",
    "      - [PRIMO](https://primo.rubi.ru.ac.za), [SWISS-MODEL](https://swissmodel.expasy.org), AlphaFold Server, [QUARK](https://seq2fun.dcmb.med.umich.edu//QUARK/)\n",
    "    - Database of small molecules\n",
    "      - [ChEMBL](https://www.ebi.ac.uk/chembl/), [ZINC](http://zinc.docking.org/)\n",
    "    - Small molecule in silico docking\n",
    "      - [CB-Dock2](https://cadd.labshare.cn/cb-dock2/index.php)\n",
    "  - Standalone tools:\n",
    "    - Visualizers / Molecular Modeling\n",
    "      - [PyMOL](https://pymol.org), [ChimeraX](https://www.cgl.ucsf.edu/chimerax/), [VMD](https://www.ks.uiuc.edu/Research/vmd/), [Maestro](https://www.schrodinger.com/platform/products/maestro/) (commercial)\n",
    "    - MD simulation\n",
    "      - [GROMACS](https://www.gromacs.org), [LAMMPS](https://www.lammps.org/#gsc.tab=0), [AMBER](https://ambermd.org) (commercial), [CHARMM](https://projects.iq.harvard.edu/karplusgroup/charmm) (commercial)\n",
    "  - Scripting\n",
    "    - Advanced users often use computer scripting languages to do their custom analysis\n",
    "\n",
    "**Note: This list of databases and tools is far from exhaustive**"
   ]
  },
  {
   "cell_type": "markdown",
   "metadata": {},
   "source": [
    "### The RCSB PDB "
   ]
  },
  {
   "cell_type": "markdown",
   "metadata": {},
   "source": [
    "- Primary repository for protein 3D structures\n",
    "  - Experimentally determined 3D structures from the PDB from scientists around the world\n",
    "  - Computed Structural Models (CSM) produced by AlphaFold\n",
    "- Structures\n",
    "  - Static structures\n",
    "- Various annotations\n",
    "  - Quality metrics"
   ]
  },
  {
   "cell_type": "markdown",
   "metadata": {},
   "source": [
    "### The UniProt database"
   ]
  },
  {
   "cell_type": "markdown",
   "metadata": {},
   "source": [
    "- World’s leading high-quality, comprehensive and freely accessible resource of **protein sequence and functional information**\n",
    "- Databases entries are mainly organised as **Reviewed** and **Unreviewed** \n",
    "  - Reviewed entries are **expertly curated** data obtained from the Swiss-Prot database\n",
    "  - Unreviewed entries are generated by **automatic annotation** using the TrEMBL resource"
   ]
  },
  {
   "cell_type": "markdown",
   "metadata": {},
   "source": [
    "### The AlphaFold database"
   ]
  },
  {
   "cell_type": "markdown",
   "metadata": {},
   "source": [
    "- AlphaFold:\n",
    "  - AI system developed by Google DeepMind\n",
    "  - Predicts a protein’s 3D structure from its amino acid sequence.\n",
    "  - It regularly achieves accuracy competitive with experiment.\n",
    "- [AlphaFold DB](https://alphafold.ebi.ac.uk)\n",
    "  - Developed from a partnership between Google DeepMind and EMBL’s European Bioinformatics Institute (EMBL-EBI)\n",
    "  - Freely distributes its predictions to the scientific community.\n",
    "  - Contains over 200 million\n",
    "  - Downloadable proteomes of 47 other key organisms important in research and global health.\n",
    "\n",
    "- Limitations of AlphaFold\n",
    "  - Their focus is on predicting the structure of a single protein chains with a naturally occurring sequence. Many other use cases remain active areas of research, for example:\n",
    "    - The version of AlphaFold used to construct in this AFDB does not output multi-chain predictions (complexes). In some cases the single-chain prediction may correspond to the structure adopted in complex.\n",
    "    - In other cases (especially where the chain is structured only on binding to partner molecules) the missing context from surrounding molecules may lead to an uninformative prediction. A separate version of AlphaFold was trained for complex prediction (AlphaFold Multimer). You can find the open source code on GitHub and make multimer predictions using Google DeepMind’s Colab.\n",
    "    - For regions that are intrinsically disordered or unstructured in isolation AlphaFold is expected to produce a low-confidence prediction (pLDDT < 50) and the predicted structure will have a ribbon-like appearance. AlphaFold may be of use in identifying such regions, but the prediction makes no statement about the relative likelihood of different conformations (it is not a sample from the Boltzmann distribution).\n",
    "    - AlphaFold has not been validated for predicting the effect of mutations. \n",
    "      - AlphaFold is not expected to produce an unfolded protein structure given a sequence containing a destabilising point mutation.\n",
    "    - AlphaFold will only produces one conformation, even though a protein is known to have multiple conformations.\n",
    "    - AlphaFold does not predict the positions of any non-protein components found in experimental structures\n",
    "      - Such as cofactors, metals, ligands, ions, DNA/RNA, or post-translational modifications.\n",
    "      - AlphaFold is trained to predict the structure of proteins as they might appear in the PDB. Therefore backbone and side chain coordinates are frequently consistent with the expected structure in the presence of ions (e.g. for zinc-binding sites) or cofactors (e.g. side chain geometry consistent with heme binding)."
   ]
  },
  {
   "cell_type": "markdown",
   "metadata": {},
   "source": [
    "### The CB-Dock2 web server"
   ]
  },
  {
   "cell_type": "markdown",
   "metadata": {},
   "source": [
    "- Web server for doing protein-ligand blind docking, and detecting cavities from protein structures, essentially:\n",
    "  - Determines where ligands can bind\n",
    "  - Cavity center, volume, shape and residues\n",
    "  - Ligand binding affinities and poses"
   ]
  },
  {
   "cell_type": "markdown",
   "metadata": {},
   "source": [
    "### PyMOL"
   ]
  },
  {
   "cell_type": "markdown",
   "metadata": {},
   "source": [
    "- PyMOL is a commercial product, but also has an open source version (Open-Source PyMOL)"
   ]
  }
 ],
 "metadata": {
  "kernelspec": {
   "display_name": "base",
   "language": "python",
   "name": "python3"
  },
  "language_info": {
   "codemirror_mode": {
    "name": "ipython",
    "version": 3
   },
   "file_extension": ".py",
   "mimetype": "text/x-python",
   "name": "python",
   "nbconvert_exporter": "python",
   "pygments_lexer": "ipython3",
   "version": "3.11.4"
  }
 },
 "nbformat": 4,
 "nbformat_minor": 2
}
