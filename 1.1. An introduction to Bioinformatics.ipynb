{
 "cells": [
  {
   "cell_type": "markdown",
   "metadata": {},
   "source": [
    "# Introduction to bioinformatics"
   ]
  },
  {
   "cell_type": "code",
   "execution_count": 2,
   "metadata": {},
   "outputs": [],
   "source": [
    "from IPython import display"
   ]
  },
  {
   "cell_type": "markdown",
   "metadata": {},
   "source": [
    "### Course objectives (Period: 30th Sep - 11th Oct)\n",
    "- General understanding of:\n",
    "  - bioinformatics concepts and approaches\n",
    "  - the usefulness of biological sequences and structures are used in bioinformatics\n",
    "  - commonly used bioinformatics tools, web servers and databases\n",
    "  - sequence alignment approaches\n",
    "- Formative assessment\n",
    "  - MCQs (RUConnected)\n",
    "  - Test (hand-written)\n",
    "  - Exam (1 essay type question, 15 marks)"
   ]
  },
  {
   "cell_type": "markdown",
   "metadata": {},
   "source": [
    "### Schedule:\n",
    "|Day|Date|Time|Topic|Venue|\n",
    "|--|--|--|--|--|\n",
    "|Monday|30th Sep|11:25 - 12:30|An introduction to bioinformatics / NCBI| Eden Grove Computer Lab |\n",
    "|Tuesday|1st Oct|07:45 - 08:30|Digital representation and storage of biomolecules / NCBI| Eden Grove Computer Lab |\n",
    "|Wednesday|2nd Oct|08:40-09:25|Sequence alignment approaches|Union Computer Lab|\n",
    "|Thursday|3rd Oct|09:30 - 10:20|Sequence alignment approaches| Eden Grove Computer Lab |\n",
    "|Friday|4th Oct|10:30 - 11:15|Practical session| Jacaranda Computer Lab|\n",
    "|Monday|7th Oct|11:25 - 13:00|Structural bioinformatics tools and databases| Eden Grove Computer Lab |\n",
    "|Tuesday|8th Oct|07:45 - 08:30|Structural bioinformatics tools and databases| Eden Grove Computer Lab |\n",
    "|Wednesday|9th Oct|08:40-09:25|Structural bioinformatics tools and databases| Union Computer Lab |\n",
    "|Thursday|10th Oct|09:30 - 10:20|Practical session | Eden Grove Computer Lab |\n",
    "|Friday|11th Oct|10:30 - 11:15|\tWritten test |Jacaranda Computer Lab|\n",
    "\n"
   ]
  },
  {
   "cell_type": "markdown",
   "metadata": {},
   "source": [
    "---"
   ]
  },
  {
   "cell_type": "markdown",
   "metadata": {},
   "source": [
    "## What is bioinformatics?\n",
    "- Various definitions\n",
    "  - IT applied to the management and analysis of biological data (Attwood & Parry-Smith, 1999)\n",
    "  - The collection, archiving organization and interpretation of biological data (Thornton, 2003)\n",
    "  - Multidisciplinary research area interfacing computer science and biological science (Xiong, 2006)\n",
    "  - Science of using computer tools to analyze biological data in order to formulate hypotheses about life processes (Tramontano, 2007)\n",
    "- It is a relatively young field\n",
    "  - Term first appeared in the mid 1980s, even though computers were used to analyze biological data in 1960s\n",
    "- Bioinformatics is rapidly advancing field, and is accelerated by\n",
    "  - leaps in technology, improved algorithms\n",
    "  - growth in experimental data\n",
    "  - artificial intelligence"
   ]
  },
  {
   "cell_type": "markdown",
   "metadata": {},
   "source": [
    "---"
   ]
  },
  {
   "cell_type": "markdown",
   "metadata": {},
   "source": [
    "## Simply put, bioinformatics today\n",
    "- The world has generated vast amounts of biological data of various kind across the world\n",
    "  - DNA, RNA, protein, small molecules (natural & synthetic)\n",
    "  - Organisms constantly evolve\n",
    "  - Added complexities such as interactions, time/context variance and location\n",
    "    - These molecules interact in a dynamic system\n",
    "    - Rule book (DNA) and its products (protein, RNA), and the environment\n",
    "      - Data recorded from various experimental conditions\n",
    "- The main goal is to improve our understanding of biology\n",
    "  - Life is extremely complex, but science tries to improve our understanding of it\n",
    "    - Scientific tools are used to test hypotheses using various measurements (data)\n",
    "  - But how do we navigate or make sense of this huge amount of complex information?\n",
    "    - This is what bioinformatics is about"
   ]
  },
  {
   "cell_type": "markdown",
   "metadata": {},
   "source": [
    "---"
   ]
  },
  {
   "cell_type": "markdown",
   "metadata": {},
   "source": [
    "## Bioinformatics can/has to be approached from diverse skill sets \n",
    "- Because of the complexicty, bioinformatics integrates various sciences (and is thus vast):\n",
    "    - Biology, mathematics, statistics, physics, computer science, engineering, chemistry, etc\n",
    "- It can be approached and practiced from various scientific disciplines, e.g:\n",
    "  - Biologist + computational skills\n",
    "  - Biochemist + computational skills\n",
    "  - Chemist + biology knowledge + computational skills\n",
    "  - Computer scientist + biology knowledge\n",
    "  - Physics + biology + computational skills\n",
    "  - etc\n",
    "- You do not need to be an expert in all these fields! No-one is.\n",
    "  - You specialize in a certain aspect\n",
    "  - I am a structural bioinformaticist"
   ]
  },
  {
   "cell_type": "markdown",
   "metadata": {},
   "source": [
    "---"
   ]
  },
  {
   "cell_type": "markdown",
   "metadata": {},
   "source": [
    "## Convergence towards bioinformatics, and its expansion\n",
    "  - **Patterns** in living things\n",
    "    - Macromolecules such as DNA sequences, protein structures, etc\n",
    "    - **Biological data** has been gathered and **annotated** over decades\n",
    "  - Various technologies have generated **huge amounts of biological information** over the years\n",
    "    - We have a sea of data.\n",
    "    - How do we make sense of all this - aka find various needles in various hay stacks?\n",
    "  - Greater access to **high performance hardware** and **software** \n",
    "    - Decreasing cost of computation\n",
    "    - Cluster computing access, GPU availability (e.g. [Google Colab](https://colab.google))\n",
    "    - Improved algorithms\n",
    "    - Open source software (e.g. [Linux OS](https://www.youtube.com/watch?v=q5yM4ZYwB_s&t=46s), [FOSS](https://en.wikipedia.org/wiki/Free_and_open-source_software#:~:text=Free%20and%20open%2Dsource%20software%20(FOSS)%20is%20software%20that,necessary%20but%20not%20sufficient%20condition.))\n",
    "  - Increased data enable **data-driven insights**, improve the understanding of biology\n",
    "      - Available data **empowers the discovery new therapeutics**\n",
    "      - in silico calculations using pre-existing data can **reduce the number of samples** to be evaluated (**lowers cost**)"
   ]
  },
  {
   "cell_type": "markdown",
   "metadata": {},
   "source": [
    "---"
   ]
  },
  {
   "cell_type": "markdown",
   "metadata": {},
   "source": [
    "## Examples of tasks performed in bioinformatics"
   ]
  },
  {
   "cell_type": "markdown",
   "metadata": {},
   "source": [
    "### A. Gene, or amplicon sequencing\n",
    "- Let's say you did a [PCR](https://cdn.gentaur.co.uk/wp-content/uploads/2021/10/MB_pcr_cycle_pcr_protocol.png) [assay](https://www.sigmaaldrich.com/deepweb/assets/sigmaaldrich/marketing/global/videos/components-to-successfull-pcr-ms/components-to-successfull-pcr-ms.mp4) on an unknown sample, and you see a unique band of some molecular weight on your [electrophoresis gel](https://images.app.goo.gl/t6x9YEG7jj6jjckf9)\n",
    "  - You could stop there, or you could ask more questions about the fragment\n",
    "    - what is its composition?\n",
    "    - which organism it is from?\n",
    "    - where is it found in the organism?\n",
    "    - what is its function in the organism?\n",
    "    - are there other organisms that have the same/similar sequence\n",
    "      - are they related - e.g. different virus strains?\n",
    "    - does it code for a protein?\n",
    "  - All these questions are can be answered by bioinformatics techniques\n",
    "    - Various wet lab and _in silico_ data stored in **databases** + various **tools** for analysis\n",
    "  - Now, how would one determine the sequence of a single short sequence (~800bp) - most likely the **Sanger sequencing** method\n",
    "    - The workflow is typically likewise:\n",
    "      - Template PCR amplification & purification\n",
    "      - PCR amplification (cycle sequencing) with fluorescent labels and normal dNTPs and special nucleotides (ddNTPs) that interrupt extension\n",
    "      - Capillary electrophoresis + fluorescence detection\n",
    "    - Well established, and is most accurate sequence method\n",
    "    - Not cost effective if sequencing multiple sequences in parallel"
   ]
  },
  {
   "cell_type": "markdown",
   "metadata": {},
   "source": [
    "### B. Genome sequencing\n",
    "- Let's say there's a new pandemic\n",
    "  - you're tasked to identify what it is.\n",
    "  - you're also asked how similar it is to known pathogens\n",
    "- These could qualify for a genome sequencing project\n",
    "  - What is genome sequencing?\n",
    "    - We wish to detemine the entire set of nucleotide sequences that compose the organism's genetic material\n",
    "    - Technical limitations mean that sequences are determined in fragments\n",
    "      - these are assembled into **contigs** (i.e. contiguous sequences)\n",
    "  - But then, what do we do with a sequence of four alphabets?\n",
    "    - Is that it? ---ATCGATCGACTAGCTAGCTAGCTAGCTAGC---\n",
    "    - Do we try and find words, sentences and punctuations from it?\n",
    "    - What's this sequence data mean?\n",
    "  - If you're determining an entire genome, most likely you'd be using [**Next Generation Sequencing (NGS)**](https://www.illumina.com/science/technology/next-generation-sequencing/beginners.html)\n",
    "    - Mainly based on the following workflow:\n",
    "      - fragmentation -> sequencing short reads -> contig assembly -> scaffold"
   ]
  },
  {
   "cell_type": "code",
   "execution_count": 26,
   "metadata": {},
   "outputs": [
    {
     "data": {
      "text/html": [
       "<img src=\"https://knowgenetics.org/wp-content/uploads/2012/12/kevin2.png\" height=\"600\"/>"
      ],
      "text/plain": [
       "<IPython.core.display.Image object>"
      ]
     },
     "execution_count": 26,
     "metadata": {},
     "output_type": "execute_result"
    }
   ],
   "source": [
    "display.Image(url=\"https://knowgenetics.org/wp-content/uploads/2012/12/kevin2.png\", height=600)"
   ]
  },
  {
   "cell_type": "markdown",
   "metadata": {},
   "source": [
    "For more info, see [here](https://knowgenetics.org/whole-genome-sequencing)"
   ]
  },
  {
   "cell_type": "markdown",
   "metadata": {},
   "source": [
    "---"
   ]
  },
  {
   "cell_type": "markdown",
   "metadata": {},
   "source": [
    "### C. Genome annotation\n",
    "- Genomic features can be \n",
    "  - It is the next logical step following a genome assembly\n",
    "  - We determine features/landmarks from the genomic sequence\n",
    "    - Chromosomes, genes, introns/exons, forward/reverse strands, control elements, etc\n",
    "  - But now, what can we do with an annotated genome?\n",
    "    - How does this information help us?\n",
    "      - Knowing genomic locations and compositions of genetic elements, we can better understand what the organism does\n",
    "      - We can study pathways in disease, improve \n",
    "      - Essentially, it is map meant to decipher the genomic content and its meaning"
   ]
  },
  {
   "cell_type": "markdown",
   "metadata": {},
   "source": [
    "#### A very quick detour to the NCBI - viewing genomic data\n",
    "- National Center for Biotechnology Information (NCBI)\n",
    "  - Over 3 million visitors daily to its website,\n",
    "  - ~27 TB of data downloaded/day\n",
    "\n",
    "\n",
    "**Quick demonstration:** \n",
    "\n",
    "Accessing the genome annotation data through NCBI\n",
    "- Go to [https://www.ncbi.nlm.nih.gov](https://www.ncbi.nlm.nih.gov)\n",
    "- Look for \"Data & Software\"\n",
    "- Click on \"Genome Data Viewer (GDV)\"\n",
    "- Look for \"Glutathione S transferase\" in the human genome"
   ]
  },
  {
   "cell_type": "markdown",
   "metadata": {},
   "source": [
    "___"
   ]
  },
  {
   "cell_type": "markdown",
   "metadata": {},
   "source": [
    "### D. Molecular detection, and evolutionary (phylogenetic) studies\n",
    "  - With well-characterised regions of several genomes, we can examine their similarities and differences\n",
    "    - Did the SARS-CoV-2 strain that you contracted similar to the one originally from Wuhan?\n",
    "  - Sequences can be used for guide molecular diagnostics\n",
    "    - Is pathogen X present in this patient?\n",
    "      - e.g. genetic markers, PCR primers/multiplexing, etc\n",
    "  - To track the provenance and evolution of disease\n",
    "    - e.g. The similarities/differences in SARS-CoV-2 since COVID-19\n",
    "  - To develop nucleic acid-based vaccines using their known protein-coding sequences\n",
    "    - Quite new (COVID-19 mRNA vaccines, Pfizer-BioNTech and Moderna)\n",
    "  - To discover and characterise unculturable microorganisms\n",
    "    - Difficult to grow in standard growth media\n",
    "  - To predict the effectiveness of therapy (HAART)\n",
    "    - Which HIV subtype(s) is a patient infected with?\n",
    "    - Is this ARV still effective for the patient (e.g. [Stanford HIVDB](https://hivdb.stanford.edu/hivdb/by-patterns/))?\n",
    "  - To eludidate the genetic cause of certain disorders\n",
    "    - sickle-cell anemia (typically single DNA mutation)\n",
    "    - certain types of diabetes "
   ]
  },
  {
   "cell_type": "markdown",
   "metadata": {},
   "source": [
    "---"
   ]
  },
  {
   "cell_type": "markdown",
   "metadata": {},
   "source": [
    "**Evolutionary data from the [nextstrain](https://nextstrain.org/) resource**"
   ]
  },
  {
   "cell_type": "markdown",
   "metadata": {},
   "source": [
    "<strong>Example 1: SARS-CoV-2 evolutionary analysis</strong>"
   ]
  },
  {
   "cell_type": "code",
   "execution_count": 7,
   "metadata": {},
   "outputs": [
    {
     "data": {
      "text/html": [
       "\n",
       "        <iframe\n",
       "            width=\"100%\"\n",
       "            height=\"600px\"\n",
       "            src=\"https://nextstrain.org/ncov/gisaid/africa/1m?dmin=2023-01-01\"\n",
       "            frameborder=\"0\"\n",
       "            allowfullscreen\n",
       "            \n",
       "        ></iframe>\n",
       "        "
      ],
      "text/plain": [
       "<IPython.lib.display.IFrame at 0x1051bf4a0>"
      ]
     },
     "execution_count": 7,
     "metadata": {},
     "output_type": "execute_result"
    }
   ],
   "source": [
    "display.IFrame(src=\"https://nextstrain.org/ncov/gisaid/africa/1m?dmin=2023-01-01\", width=\"100%\", height=\"600px\")"
   ]
  },
  {
   "cell_type": "markdown",
   "metadata": {},
   "source": [
    "<strong>Example 2: MPOX evolutionary analysis</strong>"
   ]
  },
  {
   "cell_type": "code",
   "execution_count": 8,
   "metadata": {},
   "outputs": [
    {
     "data": {
      "text/html": [
       "\n",
       "        <iframe\n",
       "            width=\"100%\"\n",
       "            height=\"600px\"\n",
       "            src=\"https://nextstrain.org/mpox/all-clades\"\n",
       "            frameborder=\"0\"\n",
       "            allowfullscreen\n",
       "            \n",
       "        ></iframe>\n",
       "        "
      ],
      "text/plain": [
       "<IPython.lib.display.IFrame at 0x105194ce0>"
      ]
     },
     "execution_count": 8,
     "metadata": {},
     "output_type": "execute_result"
    }
   ],
   "source": [
    "display.IFrame(src=\"https://nextstrain.org/mpox/all-clades\", width=\"100%\", height=\"600px\")"
   ]
  },
  {
   "cell_type": "markdown",
   "metadata": {},
   "source": [
    "---"
   ]
  },
  {
   "cell_type": "markdown",
   "metadata": {},
   "source": [
    "### E. Gene expression analysis\n",
    "- All cells contain the same genome, yet they specialise into different tissues and organs?\n",
    "  - The retina of the eye is composed of the same DNA as your skin cells\n",
    "- Different portions of the genome are switched on and off at different times, and in different locations\n",
    "  - e.g. as a preparation for sleep, melatonin production goes up while your insulin levels go down\n",
    "- Cellular environment also changes in different states (healthy vs diseased state)\n",
    "  - A viral infection will trigger an immune response upon recognition of an epitope\n",
    "- Measuring these changes can highlight coexpression/differential expression of genes\n",
    "  - Similarities in disease states\n",
    "  - Development of novel drug targeting approaches\n",
    "- The NCBI GEO Profile can be used to investigate gene expression profiles\n",
    "  - [CYP1A1 expression levels with and without arsenate](https://www.ncbi.nlm.nih.gov/geoprofiles?term=CYP1A1[Gene+Symbol])"
   ]
  },
  {
   "cell_type": "markdown",
   "metadata": {},
   "source": [
    "---"
   ]
  },
  {
   "cell_type": "markdown",
   "metadata": {},
   "source": [
    "### F. Genes are not the only way to analyse biology, but their products add another level of complexity\n",
    "- Protein are translated and regulated themselves\n",
    "- Their structures can be predicted through NMR and Xray crystallography\n",
    "  - Lengthy and costly\n",
    "  - Recent developments in AI are are closing the gap on the number of unsolved proteins\n",
    "    - Alphafold, RosettaFold, CollabFold "
   ]
  },
  {
   "cell_type": "markdown",
   "metadata": {},
   "source": [
    "---"
   ]
  },
  {
   "cell_type": "markdown",
   "metadata": {},
   "source": [
    "### G. Biomolecular docking\n",
    "- Proteins 3D structures are often solved in isolation or with a limited number of possible compounds\n",
    "- We may want to determing if the protein interacts with another protein/compound \n",
    "- These interactions can be predicted in silico\n",
    "  - Protein-protein (HADDOCK, ClusPro, ZDOCK, etc)\n",
    "  - Protein-ligand (AutoDock, Vina, etc)\n"
   ]
  },
  {
   "cell_type": "markdown",
   "metadata": {},
   "source": [
    "---"
   ]
  },
  {
   "cell_type": "markdown",
   "metadata": {},
   "source": [
    "### H. Bioinformatics software development\n",
    "- You've found a new way of thinking about some biological data and you discovered something, and is generalisable?\n",
    "  - Great, you can convert it into a tool!\n",
    "    - E.g. analysis, databases, web resources\n",
    "  - You can then decide how to make it accessible\n",
    "    - open/closed source\n",
    "  - Interface\n",
    "    - Web application, Graphical User Interface, Command-Line Application\n",
    "- Programming is a very good skill to have in any bioinformaticist's toolkit\n",
    "  - Beware: Garbage In Garbage Out"
   ]
  },
  {
   "cell_type": "markdown",
   "metadata": {},
   "source": [
    "---"
   ]
  },
  {
   "cell_type": "markdown",
   "metadata": {},
   "source": [
    "## Biological information has to be digitized to be used computationally\n",
    "- What information should be stored?\n",
    "   - Biomolecules (data) & their accompanying information (**metadata**)\n",
    "     - \"metadata\" is data that describes data\n",
    "   - Sequence data\n",
    "     - Genes, genomes, protein sequences, sequencing reads, etc\n",
    "     - Common file formats (FASTA, Genbank, FASTQ, ...)\n",
    "   - **Aligned** sequence data\n",
    "     - Sequences stacked over each other\n",
    "     - Common file formats (FASTA, CLUSTAL, ...)\n",
    "   - Protein structural data (**Static**)\n",
    "     - X-Ray, NMR, Cryo-EM crystal structures\n",
    "     - Common file formats (PDB, MMCIF, ...)\n",
    "   - Protein structural data (**Dynamic**)\n",
    "     - 3D snapshots of proteins observed over time\n",
    "     - Common file formats (PDB, XTC, TRR, ...)\n",
    "   - Small molecules\n",
    "     - Common metabolites, and any other small compound\n",
    "     - Common file formats (PDB, SMILES, MOL2, ...)"
   ]
  },
  {
   "cell_type": "markdown",
   "metadata": {},
   "source": [
    "---"
   ]
  },
  {
   "cell_type": "markdown",
   "metadata": {},
   "source": [
    "## Biological information also has to be stored\n",
    "- Why store data?\n",
    "    - Allow data archival and re-use\n",
    "    - Facilitate discovery of previously unknown relationships\n",
    "- Databases\n",
    "    - Tables can be simple flat text files\n",
    "    - More complex collection of tables\n",
    "- Various data formats\n",
    "    - Agreed upon conventions for representing data\n",
    "    - Formats may have different advantages and disadvantages\n",
    "- These can be stored on-site or remotely\n",
    "    - Popular public web resources for retrieving bioinformatics data\n",
    "        \n",
    "        |Web resources|URLs|\n",
    "        |--|--|\n",
    "        | **NCBI**: | [https://www.ncbi.nlm.nih.gov](https://www.ncbi.nlm.nih.gov)|\n",
    "        | **UniProt**:| [http://uniprot.org/](http://uniprot.org/)|\n",
    "        | **RCSB PDB**:| [https://www.rcsb.org](https://www.rcsb.org)|\n",
    "        | **ENSEMBL**:|[http://ensembl.org/](http://ensembl.org/)|\n",
    "        | **ChEMBL**:|[https://www.ebi.ac.uk/chembl/](https://www.ebi.ac.uk/chembl/)|\n",
    "        | **AlphaFold Protein Structure Database**|[https://alphafold.ebi.ac.uk](https://alphafold.ebi.ac.uk)|\n",
    "        | **EMBL-EBI**|[https://www.ebi.ac.uk](https://www.ebi.ac.uk)|\n",
    "        |There are many more|\n",
    "\n",
    "    - You can also make your own database(s), for privacy\n",
    "        - Can be as simple as a CSV file, an excel sheet, or\n",
    "        - Your own database for [BLAST](https://blast.ncbi.nlm.nih.gov/Blast.cgi) "
   ]
  },
  {
   "cell_type": "markdown",
   "metadata": {},
   "source": [
    "---"
   ]
  }
 ],
 "metadata": {
  "kernelspec": {
   "display_name": "Python 3 (ipykernel)",
   "language": "python",
   "name": "python3"
  },
  "language_info": {
   "codemirror_mode": {
    "name": "ipython",
    "version": 3
   },
   "file_extension": ".py",
   "mimetype": "text/x-python",
   "name": "python",
   "nbconvert_exporter": "python",
   "pygments_lexer": "ipython3",
   "version": "3.12.1"
  }
 },
 "nbformat": 4,
 "nbformat_minor": 4
}
