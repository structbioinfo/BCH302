{
 "cells": [
  {
   "cell_type": "markdown",
   "metadata": {
    "vscode": {
     "languageId": "plaintext"
    }
   },
   "source": [
    "### Introduction to NCBI BLAST"
   ]
  },
  {
   "cell_type": "markdown",
   "metadata": {
    "vscode": {
     "languageId": "plaintext"
    }
   },
   "source": [
    "#### Database Similarity Searching"
   ]
  },
  {
   "cell_type": "markdown",
   "metadata": {
    "vscode": {
     "languageId": "plaintext"
    }
   },
   "source": [
    "- You have a sequenced amplicon and you want to know more about it\n",
    "  - what it is, does\n",
    "  - where it comes from, etc\n",
    "- Yes, you could search a database using dynamic programming (Needleman-Wunch or the Smith-Waterman alignment) algorithms\n",
    "  - But they are too slow to give you results fast enough\n",
    "    - Querying a DB of 300,000 sequences using a 100 residue-long sequence took ~3 hours to complete with a regular computer, nearly a decade ago\n",
    "    - And would require too much computational power on the large scale\n",
    "- BLAST is a very routine way of doing these searches rapidly (usually seconds)\n",
    "  - Your sequence (query) is searched against a database of annotated sequences (targets)\n",
    "    - Side notes:\n",
    "      - Database annotations are sometimes automatically assigned (automatic annotation)\n",
    "      - At other times humans intervene and manually correct the data/metadata (manual data curation)\n",
    "  - BLAST employs algorithmic tricks to speed up alignment process\n",
    "    - it's a heuristic (not exhaustive) algorithm\n",
    "      - i.e. it's not guaranteed to retrieve all possible matches\n",
    "        - e.g. for some families of protein sequences, BLAST can miss 30% of truly significant hits.\n",
    "    - but it's very fast"
   ]
  },
  {
   "cell_type": "markdown",
   "metadata": {},
   "source": [
    "#### Before we explain BLAST, we need to understand what a reading frame is\n",
    "- A **reading frame** is where one starts to translate codons in a **protein-coding sequence**\n",
    "  - usually each reading frame can be numbered: 1,2,3, and 4,5,6\n",
    "  - frame-shift are indel mutations that shift/skew the codons in a protein-coding sequence  \n",
    "- An **open reading frame** (ORF) is a DNA segment having a start codon, and ends with (but not including) the stop codon.\n",
    "  - [More information about this](https://www.genome.gov/genetics-glossary/Open-Reading-Frame)\n",
    "- Because mature mRNA (i.e. no introns) is read in triplets, and because we don't know whether a strand is forward or reverse\n",
    "  - We computationally translate all **possible reading frames** to find the longest one\n",
    "  - Note that the longest ORF may not always have a start or stop codon\n",
    "    - i.e. you may be dealing with an inner fragment of a CDS\n",
    "- The ORF of a nucleotide sequence is a continuous sequence of a minimum length (e.g. 100 codons) with a start and a stop codon.\n",
    "  - Why is this important?\n",
    "    - This information can assist in **gene prediction**\n",
    "  - There is a “standard” translation table, but some organisms may use slight variations of it\n",
    "    - These are called **genetic codes** or **codon tables**.\n",
    "    - When translating from genome segments to proteins, the **correct genetic code** is needed. \n",
    "      - You can have a look at a list of genetic codes [here](https://www.ncbi.nlm.nih.gov/Taxonomy/Utils/wprintgc.cgi)"
   ]
  },
  {
   "cell_type": "markdown",
   "metadata": {
    "vscode": {
     "languageId": "plaintext"
    }
   },
   "source": [
    "#### What is BLAST?"
   ]
  },
  {
   "cell_type": "markdown",
   "metadata": {},
   "source": [
    "- BLAST is an acronym for \"Basic Local Alignment Search Tool\" (written by Stephen Altschul in 1990)\n",
    "- A tool for searching databases of biological sequences\n",
    "  - DNA or protein (as query or targets)\n",
    "- These two variations of the algorithm are commonly used\n",
    "  - **blastp**: protein query vs protein database\n",
    "  - **blastn**: nucleotide query vs nucleotide database"
   ]
  },
  {
   "cell_type": "markdown",
   "metadata": {
    "vscode": {
     "languageId": "plaintext"
    }
   },
   "source": [
    "### What if there's no nucleotide sequence that matches your query?\n",
    "- translated searches (useful for unannotated sequences; protein-coding; more computationally expensive)\n",
    "  - **tblastn**: protein query, nucleotide database\n",
    "    - _translates nucleotide database sequences_ in all six open reading frames\n",
    "  - **blastx**: nucleotide query, protein database:\n",
    "    - _translates query_ in six open reading frames first\n",
    "  - **tblastx**: nucleotide query, nucleotide database:\n",
    "    - _translates both query and database sequences_ \n",
    "- Is used by several web servers to search their databases\n",
    "  - at NCBI, and in many other sites\n",
    "- You can also **install BLAST as a standalone tool** and prepare your own database\n",
    "  - Typically, if you want your data to remain private\n",
    "  - Or if you plan on large volumes of searches\n",
    "  \n",
    "Further reading [here](https://www.nlm.nih.gov/ncbi/workshops/2023-08_BLAST_evol/blast_basics.html)"
   ]
  },
  {
   "cell_type": "markdown",
   "metadata": {
    "vscode": {
     "languageId": "plaintext"
    }
   },
   "source": [
    "### Should I use a protein sequence or a DNA sequence for a BLAST search?\n",
    "- Using query protein sequences are better at detecting homologs.\n",
    "  - protein sequences are much **more informative** and **sensitive** in detecting homologs\n",
    "    - they have more characters than DNA -> higher complexity \"language\"\n",
    "    - Many codons are **degenerate** (DNA mutations are often silent)\n",
    "  - Searches using protein sequences can yield more significant matches than using DNA sequences. \n",
    "    - BUT, the query sequence has to protein-encoding\n",
    "  - If looking for protein homologs from a newly sequenced genome, one may use TBLASTN\n",
    "    - translates nucleotide database sequences in all six open reading frames"
   ]
  },
  {
   "cell_type": "markdown",
   "metadata": {
    "vscode": {
     "languageId": "plaintext"
    }
   },
   "source": [
    "#### The BLAST algorithm\n",
    "- Create a list of words (**aka kmers**) from the query sequence (non-overlapping fragments).\n",
    "  - typically 3 residues for protein sequences, and 11 residues for DNA sequences.\n",
    "- Search a sequence database for exact matches of these kmers.\n",
    "  - Each matched word is scored by a given substitution (scoring) matrix, and is retained if it is above a threshold.\n",
    "- The kmers are extended in both directions while counting the alignment score using the same scoring matrix.\n",
    "- Extension continues until the alignment score drops below a threshold due to mismatches.\n",
    "  - This results in a contiguous aligned segment pair without gaps, called a **high-scoring segment pair (HSP)**\n",
    "- Finally, terminal regions are trimmed before producing a report of the final alignment."
   ]
  },
  {
   "cell_type": "markdown",
   "metadata": {
    "vscode": {
     "languageId": "plaintext"
    }
   },
   "source": [
    "#### Metrics in BLAST"
   ]
  },
  {
   "cell_type": "markdown",
   "metadata": {
    "vscode": {
     "languageId": "plaintext"
    }
   },
   "source": [
    "- **Score:**\n",
    "  - A raw value that represents how well the query sequence matches the database sequence.\n",
    "  - Cannot be compared across searches\n",
    "- **Bit-score:**\n",
    "  - The normalized score, which allows comparisons across different searches.\n",
    "  - Higher bit-scores mean better alignment quality."
   ]
  },
  {
   "cell_type": "markdown",
   "metadata": {
    "vscode": {
     "languageId": "plaintext"
    }
   },
   "source": [
    "- **Coverage:**\n",
    "  - Proportion of the query that is aligned with the database (target) sequence.\n",
    "    - i.e. how much of your query sequence is included in the alignment."
   ]
  },
  {
   "cell_type": "markdown",
   "metadata": {
    "vscode": {
     "languageId": "plaintext"
    }
   },
   "source": [
    "- **Identity:**\n",
    "  - Percentage of nucleotides (if DNA/RNA) or amino acids (if proteins) that are **exactly the same** within the aligned pair of sequences.\n",
    "  - Higher identity means more identical residues."
   ]
  },
  {
   "cell_type": "markdown",
   "metadata": {
    "vscode": {
     "languageId": "plaintext"
    }
   },
   "source": [
    "- **Similarity:**\n",
    "  - Similarity considers not just exact matches but also residues that are physicochemically similar (i.e. amino acids with similar properties).\n",
    "  - Typically used for protein alignments."
   ]
  },
  {
   "cell_type": "markdown",
   "metadata": {
    "vscode": {
     "languageId": "plaintext"
    }
   },
   "source": [
    "- **E-value (Expect value):**\n",
    "  - Value that represents the number of alignments with a similar score that you would expect to find by chance in a database search.\n",
    "  - E-values (closer to zero) indicate more significant matches (i.e. higher likelihood that the match did not occur by chance.\n",
    "  - Formula for E-value: $E = m × n × P $, where\n",
    "    - m = total number of residues in a DB,\n",
    "    - n = number of residues in the query sequence, \n",
    "    - P = probability that an HSP is a result of random chance."
   ]
  }
 ],
 "metadata": {
  "kernelspec": {
   "display_name": "Python 3 (ipykernel)",
   "language": "python",
   "name": "python3"
  },
  "language_info": {
   "codemirror_mode": {
    "name": "ipython",
    "version": 3
   },
   "file_extension": ".py",
   "mimetype": "text/x-python",
   "name": "python",
   "nbconvert_exporter": "python",
   "pygments_lexer": "ipython3",
   "version": "3.11.4"
  }
 },
 "nbformat": 4,
 "nbformat_minor": 4
}
