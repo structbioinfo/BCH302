{
 "cells": [
  {
   "cell_type": "code",
   "execution_count": 18,
   "metadata": {},
   "outputs": [],
   "source": [
    "from IPython import display"
   ]
  },
  {
   "cell_type": "markdown",
   "metadata": {},
   "source": [
    "# Bioinformatics sequence file formats"
   ]
  },
  {
   "cell_type": "markdown",
   "metadata": {},
   "source": [
    "- There are many sequence file formats in bioinformatics used for different kinds of data\n",
    "- We'll look at the FASTA and the GenBank file formats\n",
    "- These are typically obtained from experimentalists and are stored in databases\n",
    "  - Public data can be rapidly be accessed worldwide\n",
    "  - Annotations of unknown sequcens can be transferred from similar knowns records"
   ]
  },
  {
   "cell_type": "markdown",
   "metadata": {},
   "source": [
    "### FASTA format\n"
   ]
  },
  {
   "cell_type": "markdown",
   "metadata": {},
   "source": [
    "- It is the simplest sequence file format\n",
    "  - nucleic and protein sequences\n",
    "- A FASTA may have one or more entries (sequences)\n",
    "- An entry is defined by a single **definition line** and **its sequence** on the following line\n",
    "    - definition line begins with \">\"; followed by **metadata** e.g. (sequence ID, name, etc) on one line.\n",
    "    - A sequence ID is typically a unique identifier of a sequence\n",
    "- The FASTA format is not too strict\n",
    "    - Allows for various types of metadata in the definition line\n",
    "        - Metadata is any additional information that gives context to the data.\n",
    "    - Recommends that each line of sequence be no longer than 80 characters\n",
    "        - A longer sequence proceeds on the following line(s)\n",
    "    - Different programs may use slightly different file extensions (e.g. .fas, .fasta, .fna, .fst)"
   ]
  },
  {
   "cell_type": "markdown",
   "metadata": {},
   "source": [
    "#### Examples of FASTA formatted entries"
   ]
  },
  {
   "cell_type": "markdown",
   "metadata": {},
   "source": [
    "Consider the following, which could be a multi-FASTA entry flat file:"
   ]
  },
  {
   "cell_type": "markdown",
   "metadata": {},
   "source": [
    "---\n",
    "\\> Seq1 \\\n",
    "NNNNNNACTGATCGATCGACTGACTGACTGACTAGCTGACTGACTG\n",
    "\n",
    "---\n",
    "\n",
    "\\> Seq2 [organism=Mus musculus] [strain=C57BL/6] \\\n",
    "PACTGATECGATCGACTGACTGPACTGACTAGCTGACTGACTGY\n",
    "\n",
    "---\n",
    "\n",
    "\\> Seq3 [organism=Mus musculus] [strain=C57BL/6] Mus musculus neuropilin 1 (Nrp1) \\\n",
    "ACUGAUCGAUCGACUGACUGACUGACUAGCUGACUGACUGACUGAUCGAUCGACUGACUGACUGACUAGCUGACUGACUG\n",
    "AUCGAUCGAUCGAUCGAUCGAUCGAUCGAUGCAUGCUAGCUAGCAUCGAUCGAUCGAUCGAUCGUACGAUCGUAGCAUGC\n",
    "\n",
    "---\n",
    "\n",
    "[Further reading](https://www.ncbi.nlm.nih.gov/genbank/fastaformat/)"
   ]
  },
  {
   "cell_type": "markdown",
   "metadata": {},
   "source": [
    "---"
   ]
  },
  {
   "cell_type": "markdown",
   "metadata": {},
   "source": [
    "### GenBank format"
   ]
  },
  {
   "cell_type": "markdown",
   "metadata": {},
   "source": [
    "- Much more detailed than the FASTA format\n",
    "- Can contain multiple entries\n",
    "    - Each entry is composed of **a header section**, **a features section** and **a sequence section**\n",
    "    - Rich in sequence metadata (e.g. accession, length, kind, source organism, date, supporting publications, etc)\n",
    "    - Each entry ends with a pair of forward slash characters \"//\""
   ]
  },
  {
   "cell_type": "markdown",
   "metadata": {},
   "source": [
    "<img src=\"figures/genbank_format.png\">"
   ]
  }
 ],
 "metadata": {
  "kernelspec": {
   "display_name": "Python 3 (ipykernel)",
   "language": "python",
   "name": "python3"
  },
  "language_info": {
   "codemirror_mode": {
    "name": "ipython",
    "version": 3
   },
   "file_extension": ".py",
   "mimetype": "text/x-python",
   "name": "python",
   "nbconvert_exporter": "python",
   "pygments_lexer": "ipython3",
   "version": "3.11.4"
  }
 },
 "nbformat": 4,
 "nbformat_minor": 4
}
